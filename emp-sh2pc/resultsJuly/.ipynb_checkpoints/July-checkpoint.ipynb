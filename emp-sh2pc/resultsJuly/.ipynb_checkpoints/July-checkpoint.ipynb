{
 "cells": [
  {
   "cell_type": "code",
   "execution_count": null,
   "metadata": {},
   "outputs": [],
   "source": [
    "import math\n",
    "import matplotlib.pyplot as plt\n",
    "import numpy as np\n",
    "import re"
   ]
  },
  {
   "cell_type": "code",
   "execution_count": null,
   "metadata": {},
   "outputs": [],
   "source": [
    "def string2vect(string, name):\n",
    "    string_result = re.search(name + ': (.*)\\n', string).group(1)\n",
    "    vect = [int(e) for e in string_result.split(\",\")]\n",
    "    return "
   ]
  },
  {
   "cell_type": "code",
   "execution_count": null,
   "metadata": {},
   "outputs": [],
   "source": [
    "def readFileReturnMeanAll(fileName):\n",
    "    with open(fileName) as f:\n",
    "        lines = f.readlines()\n",
    "    numPrint = 12\n",
    "    runs = int(len(lines) / numPrint)\n",
    "   # print(runs)\n",
    "    #for i in range(18):\n",
    "    #    print(lines[i])\n",
    "    metricRunTimeDP = [None]*runs\n",
    "    metricRunTimeDPSort = [None]*runs\n",
    "    metricRunTimeDPMerge = [None]*runs\n",
    "    metricRunTimePointQuery = [None]*runs\n",
    "    metricRunTimeRangeQuery = [None]*runs\n",
    "    metricDPErrorP = [None]*runs\n",
    "    metricDPStoreErrorP = [None]*runs\n",
    "    metricTTStoreErrorP = [None]*runs\n",
    "    metricDPErrorR = [None]*runs\n",
    "    metricDPStoreErrorR = [None]*runs\n",
    "    metricTTStoreErrorR = [None]*runs\n",
    "    \n",
    "    metricRunTimeDPSort = [None]*runs\n",
    "    metricDPError = [None]*runs\n",
    "    metricDPStoreError = [None]*runs\n",
    "    for i in range(runs):\n",
    "        metricRunTimeDP[i] = string2vect(lines[(i*numPrint) + 1], 'metricRunTimeDP')\n",
    "        metricRunTimeDPSort[i] = string2vect(lines[(i*numPrint) + 2], 'metricRunTimeDPSort')\n",
    "        metricRunTimeDPMerge[i] = string2vect(lines[(i*numPrint) + 3], 'metricRunTimeDPMerge')\n",
    "        metricRunTimePointQuery[i] = string2vect(lines[(i*numPrint) + 4], 'metricRunTimePointQuery')\n",
    "        metricRunTimeRangeQuery[i] = string2vect(lines[(i*numPrint) + 5], 'metricRunTimeRangeQuery')\n",
    "        metricDPErrorP[i] = string2vect(lines[(i*numPrint) +6], 'metricDPErrorP')\n",
    "        metricDPStoreErrorP[i] = string2vect(lines[(i*numPrint) + 7], 'metricDPStoreErrorP')\n",
    "        metricTTStoreErrorP[i] = string2vect(lines[(i*numPrint) + 8], 'metricTTStoreErrorP')\n",
    "        metricDPErrorR[i] = string2vect(lines[(i*numPrint) + 9], 'metricDPErrorR')\n",
    "        metricDPStoreErrorR[i] = string2vect(lines[(i*numPrint) + 10], 'metricDPStoreErrorR')\n",
    "        metricTTStoreErrorR[i] = string2vect(lines[(i*numPrint) + 11], 'metricTTStoreErrorR')\n",
    "       \n",
    "\n",
    "    metricRunTimeDP_mean = np.mean(np.array(metricRunTimeDP), axis = 0)\n",
    "    metricRunTimeDPSort_mean = np.mean(np.array(metricRunTimeDPSort), axis = 0)\n",
    "    metricRunTimeDPMerge_mean = np.mean(np.array(metricRunTimeDPMerge), axis = 0)\n",
    "    metricRunTimePointQuery_mean = np.mean(np.array(metricRunTimePointQuery), axis = 0)\n",
    "    metricRunTimeRangeQuery_mean = np.mean(np.array(metricRunTimeRangeQuery), axis = 0)\n",
    "    metricDPErrorP_mean = np.mean(np.array(metricDPErrorP), axis = 0)\n",
    "    metricDPStoreErrorP_mean = np.mean(np.array(metricDPStoreErrorP), axis = 0)\n",
    "    metricTTStoreErrorP_mean = np.mean(np.array(metricTTStoreErrorP), axis = 0)\n",
    "    metricDPErrorR_mean = np.mean(np.array(metricDPErrorR), axis = 0)\n",
    "    metricDPStoreErrorR_mean = np.mean(np.array(metricDPStoreErrorR), axis = 0)\n",
    "    metricTTStoreErrorR_mean = np.mean(np.array(metricTTStoreErrorR), axis = 0)\n",
    "    \n",
    "    d = dict(); \n",
    "    d['metricRunTimeDP_mean'] = metricRunTimeDP_mean\n",
    "    d['metricRunTimeDPSort_mean'] = metricRunTimeDPSort_mean\n",
    "    d['metricRunTimeDPMerge_mean'] = metricRunTimeDPMerge_mean\n",
    "    d['metricRunTimePointQuery_mean'] = metricRunTimePointQuery_mean\n",
    "    d['metricRunTimeRangeQuery_mean'] = metricRunTimeRangeQuery_mean\n",
    "    d['metricDPErrorP_mean'] = metricDPErrorP_mean\n",
    "    d['metricDPStoreErrorP_mean'] = metricDPStoreErrorP_mean\n",
    "    d['metricTTStoreErrorP_mean'] = metricTTStoreErrorP_mean\n",
    "    d['metricDPErrorR_mean'] = metricDPErrorR_mean\n",
    "    d['metricDPStoreErrorR_mean'] = metricDPStoreErrorR_mean\n",
    "    d['metricTTStoreErrorR_mean'] = metricTTStoreErrorR_mean\n",
    "    \n",
    "    print(metricRunTimeDP)\n",
    "    print(metricRunTimeDPSort)\n",
    "    print(metricRunTimeDPMerge)\n",
    "    print(metricRunTimePointQuery)\n",
    "    print(metricRunTimeRangeQuery)\n",
    "    print(metricDPErrorP)\n",
    "    print(metricDPStoreErrorP)\n",
    "    print(metricTTStoreErrorP)\n",
    "    print(metricDPErrorR)\n",
    "    print(metricDPStoreErrorR)\n",
    "    print(metricTTStoreErrorR)\n",
    "\n",
    "    return d\n",
    "\n",
    "    '''\n",
    "    print(metricRunTimeDPSort)\n",
    "    print(metricDPError)\n",
    "    print(metricDPStoreError)\n",
    "    print(metricRunTimeDPSort_mean)\n",
    "    print(metricDPError_mean)\n",
    "    print(metricDPStoreError_mean)\n",
    "    return metricRunTimeDPSort_mean, metricDPError_mean, metricDPStoreError_mean\n",
    "    '''\n",
    "\n",
    "\n"
   ]
  },
  {
   "cell_type": "code",
   "execution_count": 1,
   "metadata": {},
   "outputs": [
    {
     "ename": "NameError",
     "evalue": "name 'readFileReturnMeanAll' is not defined",
     "output_type": "error",
     "traceback": [
      "\u001b[0;31m---------------------------------------------------------------------------\u001b[0m",
      "\u001b[0;31mNameError\u001b[0m                                 Traceback (most recent call last)",
      "\u001b[0;32m<ipython-input-1-92c74d8bd025>\u001b[0m in \u001b[0;36m<module>\u001b[0;34m\u001b[0m\n\u001b[0;32m----> 1\u001b[0;31m \u001b[0mreadFileReturnMeanAll\u001b[0m\u001b[0;34m(\u001b[0m\u001b[0;34m'leafbin40_ss1.txt,10,1,10;2.txt'\u001b[0m\u001b[0;34m)\u001b[0m\u001b[0;34m\u001b[0m\u001b[0;34m\u001b[0m\u001b[0m\n\u001b[0m",
      "\u001b[0;31mNameError\u001b[0m: name 'readFileReturnMeanAll' is not defined"
     ]
    }
   ],
   "source": [
    "readFileReturnMeanAll('leafbin40_ss1.txt,10,1,10;2.txt')"
   ]
  },
  {
   "cell_type": "code",
   "execution_count": null,
   "metadata": {},
   "outputs": [],
   "source": []
  }
 ],
 "metadata": {
  "kernelspec": {
   "display_name": "Python 3",
   "language": "python",
   "name": "python3"
  },
  "language_info": {
   "codemirror_mode": {
    "name": "ipython",
    "version": 3
   },
   "file_extension": ".py",
   "mimetype": "text/x-python",
   "name": "python",
   "nbconvert_exporter": "python",
   "pygments_lexer": "ipython3",
   "version": "3.8.3"
  }
 },
 "nbformat": 4,
 "nbformat_minor": 4
}
