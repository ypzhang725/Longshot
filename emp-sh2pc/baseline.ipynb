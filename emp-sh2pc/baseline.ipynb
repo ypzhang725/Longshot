{
 "cells": [
  {
   "cell_type": "code",
   "execution_count": 1,
   "metadata": {},
   "outputs": [],
   "source": [
    "import pandas as pd\n",
    "import numpy as np\n",
    "import math\n",
    "import time\n",
    "import json\n"
   ]
  },
  {
   "cell_type": "code",
   "execution_count": 2,
   "metadata": {},
   "outputs": [],
   "source": [
    "bins = 4\n",
    "epsilon = 1\n",
    "T = 10\n",
    "numReal = 10  "
   ]
  },
  {
   "cell_type": "code",
   "execution_count": 3,
   "metadata": {},
   "outputs": [],
   "source": [
    "def readData(fileName):\n",
    "    df = pd.read_csv(fileName)   # [1271413 rows x 1 columns]\n",
    "    df = df.to_numpy().flatten()\n",
    "    df = df.tolist()\n",
    "    for i in range(4):\n",
    "        df.extend(df)\n",
    "    return df\n",
    "def computeDPCountMark(originalData, originalDummyMarkers, epsilon, bins):\n",
    "    # compute DP Count and mark records \n",
    "    trueCount = 0\n",
    "    for count, value in enumerate(originalData):\n",
    "        same = False\n",
    "        for b in bins:\n",
    "            if (value-1) == b:\n",
    "                eq = True\n",
    "                same = same or eq\n",
    "        if same:\n",
    "            trueCount = trueCount + 1\n",
    "            originalDummyMarkers[count] = 0\n",
    "    DPCount = int(trueCount + 2 * np.random.laplace(0, (1/eps), 1)) #np.random.laplace(0, (1/eps), numBins)\n",
    "    TrueRecord = DPCount if DPCount <= trueCount else trueCount\n",
    "     \n",
    "    return DPCount, originalDummyMarkers, trueCount, TrueRecord\n"
   ]
  },
  {
   "cell_type": "code",
   "execution_count": 4,
   "metadata": {},
   "outputs": [],
   "source": [
    "def sortOneBinDP(originalData, originalDummyMarkers, DPCount):\n",
    "    sorted_data = [k for _,k in sorted(zip(originalDummyMarkers,originalData))]\n",
    "    sorted_marker = [k for _,k in sorted(zip(originalDummyMarkers,originalDummyMarkers))]\n",
    "    sorted_data = sorted_data[0:DPCount].copy()\n",
    "    sorted_marker = sorted_marker[0:DPCount].copy()\n",
    "    return sorted_data, sorted_marker\n",
    "    "
   ]
  },
  {
   "cell_type": "code",
   "execution_count": 5,
   "metadata": {},
   "outputs": [],
   "source": [
    "def processQuery(originalData, originalDummyMarkers, epsilon, bins):\n",
    "    DPCount, originalDummyMarkers, trueCount, TrueRecord = computeDPCountMark(originalData, originalDummyMarkers, epsilon, bins)\n",
    "    sorted_data, sorted_marker = sortOneBinDP(originalData, originalDummyMarkers, DPCount)       \n",
    "    '''\n",
    "    print(\"originalData\", originalData)\n",
    "    print(\"originalDummyMarkers\", originalDummyMarkers)\n",
    "    print(\"DPCount\", DPCount)\n",
    "    print(\"trueCount\", trueCount)\n",
    "    print(\"TrueRecord\", TrueRecord)\n",
    "    print(\"sorted_data\", sorted_data)\n",
    "    print(\"sorted_marker\", sorted_marker)\n",
    "    '''\n",
    "    return DPCount, trueCount, TrueRecord  \n",
    "        \n"
   ]
  },
  {
   "cell_type": "code",
   "execution_count": 6,
   "metadata": {},
   "outputs": [],
   "source": [
    "def metricBaseline(bins, epsilon, T, numReal):\n",
    "    metricDPErrorPoint = [0] * T          # |DP count - true count|\n",
    "    metricDPStoreErrorPoint = [0] * T     # |DP count - true record|\n",
    "    metricTTStoreErrorPoint = [0] * T     # |true count - true record|\n",
    "\n",
    "    metricDPErrorRange = [0] * T          # |DPcount - true count|\n",
    "    metricDPStoreErrorRange = [0] * T     # |DP count - true record|\n",
    "    metricTTStoreErrorRange = [0] * T     # |true count - true record|\n",
    "\n",
    "    originalData = {}\n",
    "    originalDummyMarkers = {}\n",
    "    df = readData('bin4.csv')\n",
    "    for i in range(T):\n",
    "        # for originalData\n",
    "        records = [None] * numReal\n",
    "        records[0: numReal] = df[i*numReal: (i+1)*numReal].copy()\n",
    "        originalData[i] = records\n",
    "        # for originalDummyMarker\n",
    "        DummyMarker = [None] * numReal \n",
    "        DummyMarker[0: numReal] = [1] * numReal   \n",
    "        originalDummyMarkers[i] = DummyMarker\n",
    "\n",
    "        #process data\n",
    "        tempOriginalData = []\n",
    "        tempOriginalDummyMarkers = []\n",
    "        for j in range(i+1):\n",
    "            tempOriginalData.extend(originalData[j])\n",
    "            tempOriginalDummyMarkers.extend(originalDummyMarkers[j])\n",
    "        \n",
    "        #point query \n",
    "        DPCountPoint = [0]*bins\n",
    "        TrueCountPoint = [0]*bins\n",
    "        TrueRecordPoint = [0]*bins\n",
    "        for j in range(bins):\n",
    "            binsPoint = [j, j]\n",
    "            DPCount, trueCount, TrueRecord = processQuery(tempOriginalData.copy(), tempOriginalDummyMarkers.copy(), epsilon, binsPoint)\n",
    "            DPCountPoint[j] = DPCount\n",
    "            TrueCountPoint[j] = trueCount\n",
    "            TrueRecordPoint[j] = TrueRecord\n",
    "        DPStoreErrorPoint = 0\n",
    "        DPErrorPoint = 0\n",
    "        TTStoreErrorPoint = 0\n",
    "        for (j, b) in enumerate(range(bins)): \n",
    "            DPStoreErrorPoint += abs(DPCountPoint[j] - TrueRecordPoint[j])\n",
    "            DPErrorPoint += abs(DPCountPoint[j] - TrueCountPoint[j])\n",
    "            TTStoreErrorPoint += abs(TrueCountPoint[j] - TrueRecordPoint[j])\n",
    "\n",
    "        metricDPErrorPoint[i] = DPErrorPoint;\n",
    "        metricDPStoreErrorPoint[i] = DPStoreErrorPoint;\n",
    "        metricTTStoreErrorPoint[i] = TTStoreErrorPoint;\n",
    "\n",
    "\n",
    "        #range query \n",
    "        rangeQuery= []\n",
    "        for j in range(bins):   \n",
    "            for k in range(j, bins, 1):\n",
    "                vect = [j, k]\n",
    "                rangeQuery.append(vect)\n",
    "        querySize = len(rangeQuery)\n",
    "        DPCountRange = [0]*querySize\n",
    "        TrueCountRange = [0]*querySize\n",
    "        TrueRecordRange = [0]*querySize\n",
    "        idx_Range = 0\n",
    "        for (j, binsPoint) in enumerate(rangeQuery): \n",
    "           # print(\"binsPoint: \", binsPoint)\n",
    "            DPCount, trueCount, TrueRecord = processQuery(tempOriginalData.copy(), tempOriginalDummyMarkers.copy(), epsilon, binsPoint)\n",
    "            DPCountRange[j] = DPCount\n",
    "            TrueCountRange[j] = trueCount\n",
    "            TrueRecordRange[j] = TrueRecord\n",
    "        DPStoreErrorRange = 0\n",
    "        DPErrorRange = 0\n",
    "        TTStoreErrorRange = 0\n",
    "        for (j, b) in enumerate(range(querySize)): \n",
    "            DPStoreErrorRange += abs(DPCountRange[j] - TrueRecordRange[j])\n",
    "            DPErrorRange += abs(DPCountRange[j] - TrueCountRange[j])\n",
    "            TTStoreErrorRange += abs(TrueCountRange[j] - TrueRecordRange[j])\n",
    "\n",
    "        metricDPErrorRange[i] = DPErrorRange\n",
    "        metricDPStoreErrorRange[i] = DPStoreErrorRange\n",
    "        metricTTStoreErrorRange[i] = TTStoreErrorRange\n",
    "    return metricDPErrorPoint, metricDPStoreErrorPoint, metricTTStoreErrorPoint, metricDPErrorRange, metricDPStoreErrorRange, metricTTStoreErrorRange\n"
   ]
  },
  {
   "cell_type": "code",
   "execution_count": 7,
   "metadata": {},
   "outputs": [],
   "source": [
    "#metricDPErrorPoint, metricDPStoreErrorPoint, metricTTStoreErrorPoint, metricDPErrorRange, metricDPStoreErrorRange, metricTTStoreErrorRange = metricBaseline(bins, epsilon, T, numReal)\n"
   ]
  },
  {
   "cell_type": "code",
   "execution_count": 8,
   "metadata": {},
   "outputs": [],
   "source": [
    "runNum = 10\n",
    "list_metricDPErrorPoint_Baseline = [None]*runNum\n",
    "list_metricDPStoreErrorPoint_Baseline = [None]*runNum\n",
    "list_metricTTStoreErrorPoint_Baseline = [None]*runNum\n",
    "list_metricDPErrorRange_Baseline = [None]*runNum\n",
    "list_metricDPStoreErrorRange_Baseline = [None]*runNum\n",
    "list_metricTTStoreErrorRange_Baseline = [None]*runNum\n",
    "for i in range(runNum):\n",
    "    metricDPErrorPoint, metricDPStoreErrorPoint, metricTTStoreErrorPoint, metricDPErrorRange, metricDPStoreErrorRange, metricTTStoreErrorRange = metricBaseline(bins, epsilon, T, numReal)\n",
    "    list_metricDPErrorPoint_Baseline[i] = metricDPErrorPoint\n",
    "    list_metricDPStoreErrorPoint_Baseline[i] = metricDPStoreErrorPoint\n",
    "    list_metricTTStoreErrorPoint_Baseline[i] = metricTTStoreErrorPoint\n",
    "    list_metricDPErrorRange_Baseline[i] = metricDPErrorRange\n",
    "    list_metricDPStoreErrorRange_Baseline[i] = metricDPStoreErrorRange\n",
    "    list_metricTTStoreErrorRange_Baseline[i] = metricTTStoreErrorRange\n",
    "mean_metricDPErrorPoint_Baseline = np.round(np.mean(list_metricDPErrorPoint_Baseline, axis = 0))\n",
    "mean_metricDPStoreErrorPoint_Baseline = np.round(np.mean(list_metricDPStoreErrorPoint_Baseline, axis = 0))\n",
    "mean_metricTTStoreErrorPoint_Baseline = np.round(np.mean(list_metricTTStoreErrorPoint_Baseline, axis = 0))\n",
    "mean_metricDPErrorRange_Baseline = np.round(np.mean(list_metricDPErrorRange_Baseline, axis = 0))\n",
    "mean_metricDPStoreErrorRange_Baseline = np.round(np.mean(list_metricDPStoreErrorRange_Baseline, axis = 0))\n",
    "mean_metricTTStoreErrorRange_Baseline = np.round(np.mean(list_metricTTStoreErrorRange_Baseline, axis = 0))\n",
    "\n",
    "fileName = \"baseline/T:\"+str(T)+\",eps:\"+str(epsilon)+\",N:\"+str(numReal)+\".json\"\n",
    "\n",
    "with open(fileName, 'w') as f:\n",
    "    entry = {}\n",
    "    entry['list_metricDPErrorPoint_Baseline'] = mean_metricDPErrorPoint_Baseline.tolist()\n",
    "    entry['list_metricDPStoreErrorPoint_Baseline'] = mean_metricDPStoreErrorPoint_Baseline.tolist()\n",
    "    entry['list_metricTTStoreErrorPoint_Baseline'] = mean_metricTTStoreErrorPoint_Baseline.tolist()\n",
    "    entry['list_metricDPErrorRange_Baseline'] = mean_metricDPErrorRange_Baseline.tolist()\n",
    "    entry['list_metricDPStoreErrorRange_Baseline'] = mean_metricDPStoreErrorRange_Baseline.tolist()\n",
    "    entry['list_metricTTStoreErrorRange_Baseline'] = mean_metricTTStoreErrorRange_Baseline.tolist()\n",
    "    json.dump(entry, f, ensure_ascii=False)\n",
    "\n",
    "    \n",
    "    "
   ]
  },
  {
   "cell_type": "code",
   "execution_count": 9,
   "metadata": {},
   "outputs": [
    {
     "name": "stdout",
     "output_type": "stream",
     "text": [
      "4\n",
      "4\n",
      "4\n",
      "4\n",
      "4\n",
      "4\n",
      "4\n",
      "4\n",
      "4\n",
      "4\n",
      "4\n",
      "4\n",
      "4\n",
      "4\n",
      "4\n",
      "4\n",
      "4\n",
      "4\n",
      "4\n",
      "4\n",
      "0\n",
      "0\n",
      "0\n",
      "0\n",
      "0\n",
      "0\n",
      "0\n",
      "0\n",
      "0\n",
      "0\n",
      "10\n",
      "10\n",
      "10\n",
      "10\n",
      "10\n",
      "10\n",
      "10\n",
      "10\n",
      "10\n",
      "10\n",
      "10\n",
      "10\n",
      "10\n",
      "10\n",
      "10\n",
      "10\n",
      "10\n",
      "10\n",
      "10\n",
      "10\n",
      "0\n",
      "0\n",
      "0\n",
      "0\n",
      "0\n",
      "0\n",
      "0\n",
      "0\n",
      "0\n",
      "0\n"
     ]
    }
   ],
   "source": [
    "for i in metricDPErrorPoint:\n",
    "    print(i)\n",
    "for i in metricDPStoreErrorPoint:\n",
    "    print(i)\n",
    "for i in metricTTStoreErrorPoint:\n",
    "    print(i)\n",
    "for i in metricDPErrorRange:\n",
    "    print(i)\n",
    "for i in metricDPStoreErrorRange:\n",
    "    print(i)\n",
    "for i in metricTTStoreErrorRange:\n",
    "    print(i)\n"
   ]
  },
  {
   "cell_type": "code",
   "execution_count": 10,
   "metadata": {},
   "outputs": [
    {
     "name": "stdout",
     "output_type": "stream",
     "text": [
      "[2, 5, 8, 11, 14, 17]\n"
     ]
    }
   ],
   "source": [
    "print(list(range(2, 20, 3)))"
   ]
  },
  {
   "cell_type": "code",
   "execution_count": 11,
   "metadata": {},
   "outputs": [],
   "source": [
    "vect = [1, 2]"
   ]
  },
  {
   "cell_type": "code",
   "execution_count": 12,
   "metadata": {},
   "outputs": [
    {
     "name": "stdout",
     "output_type": "stream",
     "text": [
      "0\n",
      "0\n",
      "0\n",
      "0\n",
      "1\n",
      "1\n",
      "1\n",
      "2\n",
      "2\n",
      "3\n"
     ]
    }
   ],
   "source": [
    "for j in range(bins):   \n",
    "    for k in range(j, bins, 1):\n",
    "        print(j)"
   ]
  },
  {
   "cell_type": "code",
   "execution_count": 13,
   "metadata": {},
   "outputs": [
    {
     "name": "stdout",
     "output_type": "stream",
     "text": [
      "1310720\n"
     ]
    }
   ],
   "source": [
    "import pandas as pd  \n",
    "#scr = [1, 1, 1, 1]\n",
    "# change here!!! and then use xor_ss_nycdataset.py to generate secret shares\n",
    "scr = [i+1 for i in range(40)]  \n",
    "\n",
    "for i in range(15):\n",
    "    scr.extend(scr)\n",
    "print(len(scr))\n"
   ]
  },
  {
   "cell_type": "code",
   "execution_count": null,
   "metadata": {},
   "outputs": [],
   "source": []
  }
 ],
 "metadata": {
  "kernelspec": {
   "display_name": "Python 3",
   "language": "python",
   "name": "python3"
  },
  "language_info": {
   "codemirror_mode": {
    "name": "ipython",
    "version": 3
   },
   "file_extension": ".py",
   "mimetype": "text/x-python",
   "name": "python",
   "nbconvert_exporter": "python",
   "pygments_lexer": "ipython3",
   "version": "3.8.3"
  }
 },
 "nbformat": 4,
 "nbformat_minor": 4
}
