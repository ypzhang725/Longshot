{
 "cells": [
  {
   "cell_type": "code",
   "execution_count": 1,
   "metadata": {},
   "outputs": [],
   "source": [
    "import math\n",
    "import matplotlib.pyplot as plt\n",
    "import numpy as np\n",
    "import json"
   ]
  },
  {
   "cell_type": "code",
   "execution_count": 2,
   "metadata": {},
   "outputs": [],
   "source": [
    "def plotMulti(lst, leaf_lst, treeD_lst, treeA_lst, title):\n",
    "    \n",
    "    x_axis = np.arange(len(lst))\n",
    "    # Multi bar Chart\n",
    "    plt.bar(x_axis +0.20, leaf_lst, width=0.2, label = 'leaf')\n",
    "    plt.bar(x_axis +0.20*2, treeD_lst, width=0.2, label = 'tree_sortD')\n",
    "    plt.bar(x_axis +0.20*3, treeA_lst, width=0.2, label = 'tree_sortA')\n",
    "\n",
    "    plt.xticks(x_axis,lst)\n",
    "    plt.legend()\n",
    "    plt.title(title)\n",
    "    plt.show()\n",
    "    \n",
    "def plotDP(T, arrayLeaf, arrayTree_sortSubroot, arrayTree_sortD, arrayLeaf_store, arrayTree_sortSubroot_store, arrayTree_sortD_store, xlable, ylable, title):\n",
    "    xpoints = np.linspace(1, T, T, endpoint=True)\n",
    "    y1points = arrayLeaf\n",
    "    y2points = arrayTree_sortSubroot\n",
    "    y3points = arrayTree_sortD\n",
    "    \n",
    "    y4points = arrayLeaf_store\n",
    "    y5points = arrayTree_sortSubroot_store\n",
    "    y6points = arrayTree_sortD_store\n",
    "\n",
    "    #plt.subplot(1, 1, 1)\n",
    "    plt.plot(xpoints, y1points, 'b^', label=\"CountDP_leaf\")\n",
    "    plt.plot(xpoints, y2points, 'r^', label=\"CountDP_tree_sortSubRoot\")\n",
    "    plt.plot(xpoints, y3points, 'g^', label=\"CountDP_tree_sortD\")\n",
    "    \n",
    "    plt.plot(xpoints, y4points, 'bv', label=\"StoreDP_leaf\")\n",
    "    plt.plot(xpoints, y5points, 'rv', label=\"StoreDP_tree_sortSubRoot\")\n",
    "    plt.plot(xpoints, y6points, 'gv', label=\"StoreDP_tree_sortD\")\n",
    "\n",
    "    plt.xlabel(xlable)\n",
    "    plt.ylabel(ylable)\n",
    "    plt.legend(loc=\"upper left\", prop={'size': 8})\n",
    "\n",
    "    plt.title(title)\n",
    "\n",
    "    plt.show()\n",
    "\n",
    "#https://matplotlib.org/stable/api/_as_gen/matplotlib.pyplot.plot.html\n",
    "\n",
    "\n",
    "def plotSort(T, arrayLeaf, arrayTree_sortSubroot, arrayTree_sortD, xlable, ylable, title):\n",
    "    xpoints = np.linspace(1, T, T, endpoint=True)\n",
    "    y1points = arrayLeaf\n",
    "    y2points = arrayTree_sortSubroot\n",
    "    y3points = arrayTree_sortD\n",
    "    \n",
    "    #plt.subplot(1, 1, 1)\n",
    "    plt.plot(xpoints, y1points, 'b^', label=\"SortTime_leaf\")\n",
    "    plt.plot(xpoints, y2points, 'r^', label=\"SortTime_tree_sortSubRoot\")\n",
    "    plt.plot(xpoints, y3points, 'g^', label=\"SortTime_tree_sortD\")\n",
    "\n",
    "    plt.xlabel(xlable)\n",
    "    plt.ylabel(ylable)\n",
    "    plt.legend(loc=\"upper left\", prop={'size': 8})\n",
    "\n",
    "    plt.title(title)\n",
    "\n",
    "    plt.show()\n",
    "\n",
    "\n",
    "def plotCache(T, arrayLeaf, arrayTree_sortSubroot, arrayTree_sortD, xlable, ylable, title):\n",
    "    xpoints = np.linspace(1, T, T, endpoint=True)\n",
    "    y1points = arrayLeaf\n",
    "    y2points = arrayTree_sortSubroot\n",
    "    y3points = arrayTree_sortD\n",
    "    \n",
    "    #plt.subplot(1, 1, 1)\n",
    "    #plt.plot(xpoints, y1points, 'b^', label=\"CacheDummy_leaf\")\n",
    "    plt.plot(xpoints, y2points, 'r^', label=\"CacheDummy_tree_sortSubRoot\")\n",
    "    plt.plot(xpoints, y3points, 'go', label=\"CacheDummy_tree_sortD\")\n",
    "\n",
    "    plt.xlabel(xlable)\n",
    "    plt.ylabel(ylable)\n",
    "    plt.legend(loc=\"upper left\", prop={'size': 8})\n",
    "\n",
    "    plt.title(title)\n",
    "\n",
    "    plt.show()\n",
    "    \n",
    "def plotT(T, eps, N):\n",
    "    # create file names\n",
    "    T_string = \"T:\"+str(T)\n",
    "    eps_string = \",eps:\"+str(eps)\n",
    "    N_string = \",N:\"+str(N)\n",
    "    fileName = T_string+eps_string+N_string+\".json\"\n",
    "    with open(fileName) as data_file:\n",
    "        data_loaded = json.load(data_file)\n",
    "            \n",
    "    # six metrics\n",
    "        #leaf \n",
    "    LeafRunTimeDPSort_mean = data_loaded[\"list_runTimeDPSort_leaf\"]\n",
    "    LeafDPError_mean = data_loaded[\"list_metricDPError_leaf\"]\n",
    "    LeafDPStoreError_mean = data_loaded[\"list_metricDPStoreError_leaf\"]\n",
    "    LeafTTStoreError_mean = data_loaded[\"list_metricTTStoreError_leaf\"]\n",
    "    LeafCacheNum_mean = data_loaded[\"list_dummyRecordNumCache_treeA\"]\n",
    "        #tree_sortRoot\n",
    "    SortRootRunTimeDPSort_mean = data_loaded[\"list_runTimeDPSort_treeA\"]\n",
    "    SortRootDPError_mean = data_loaded[\"list_metricDPError_treeA\"]\n",
    "    SortRootDPStoreError_mean = data_loaded[\"list_metricDPStoreError_treeA\"]\n",
    "    SortRootTTStoreError_mean = data_loaded[\"list_metricTTStoreError_treeA\"]\n",
    "    SortRootCacheNum_mean = data_loaded[\"list_dummyRecordNumCache_treeA\"]\n",
    "        #tree_sortD\n",
    "    SortDRunTimeDPSort_mean = data_loaded[\"list_runTimeDPSort_treeD\"]\n",
    "    SortDDPError_mean = data_loaded[\"list_metricDPError_treeD\"]\n",
    "    SortDDPStoreError_mean = data_loaded[\"list_metricDPStoreError_treeD\"]\n",
    "    SortDTTStoreError_mean = data_loaded[\"list_metricTTStoreError_treeD\"]\n",
    "    SortDCacheNum_mean = data_loaded[\"list_dummyRecordNumCache_treeD\"]\n",
    "\n",
    "    title = \"T:\"+str(T)+\"; eps:\"+str(eps)+\"; N:\"+str(N)\n",
    "    plotSort(T, LeafRunTimeDPSort_mean, SortRootRunTimeDPSort_mean, SortDRunTimeDPSort_mean, \"time\", \"sortTime\", title)\n",
    "    plotDP(T, LeafDPError_mean, SortRootDPError_mean, SortDDPError_mean, LeafTTStoreError_mean, SortRootTTStoreError_mean, SortDTTStoreError_mean, \"time\", \"accuracy\", title)\n",
    "    plotCache(T, LeafCacheNum_mean, SortRootCacheNum_mean, SortDCacheNum_mean, \"time\", \"numOfDummy\", title)\n",
    "\n",
    "\n",
    "\n",
    "# create data\n",
    "def plotStackBarCharRunTime(approachName, xList, xName, UpdateDPTimeTree, DPMerge, SortCacheDP):\n",
    "    UpdateDPTimeTree = np.array(UpdateDPTimeTree) # milliseconds\n",
    "    DPMerge = np.array(DPMerge) # microseconds\n",
    "    SortCacheDP = np.array(SortCacheDP) * 1000 # s --> milliseconds\n",
    "    # plot bars in stack manner\n",
    "    plt.bar(xList, UpdateDPTimeTree, color='r')\n",
    "    plt.bar(xList, DPMerge, bottom=UpdateDPTimeTree, color='b')\n",
    "    plt.bar(xList, SortCacheDP, bottom=UpdateDPTimeTree+DPMerge, color='y')\n",
    "    plt.xlabel(xName)\n",
    "    plt.ylabel(\"Run Time\")\n",
    "    plt.legend([\"UpdateDPTimeTree(millisec)\", \"DPMerge(microsec*10)\", \"SortCacheDP(millisec)\"], loc='best', fancybox=True, framealpha=0.5)\n",
    "    plt.title(approachName + \": Run Time by \" + xName + \" in three components\")\n",
    "    plt.show()\n",
    "    \n",
    "def plotStackBarCharAccuracy(approachName, xList, xName, DPError, DPStoreError, TTStoreError):\n",
    "    DPError = np.array(DPError) \n",
    "    DPStoreError = np.array(DPStoreError)  \n",
    "    TTStoreError = np.array(TTStoreError)  \n",
    "    # plot bars in stack manner\n",
    "    plt.bar(xList, DPError, color='r')\n",
    "    plt.bar(xList, DPStoreError, bottom=DPError, color='b')\n",
    "    plt.bar(xList, TTStoreError, bottom=DPError+DPStoreError, color='y')\n",
    "    plt.xlabel(xName)\n",
    "    plt.ylabel(\"Accuracy\")\n",
    "    plt.legend([\"DPError\", \"DPStoreError\", \"TTStoreError\"], loc='best', fancybox=True, framealpha=0.5)\n",
    "    plt.title(approachName + \": Accuracy by \" + xName + \" in three metrics\")\n",
    "    plt.show()\n",
    "\n",
    "\n",
    "def plotNorEps(p1, p2, p3, NorEps): #eps: T, N, epsList or N: T, eps, NList\n",
    "    T = p1\n",
    "    if NorEps == \"eps\":\n",
    "        size = len(p3)\n",
    "        epsList = p3\n",
    "        N = p2\n",
    "    else:\n",
    "        size = len(p3)\n",
    "        NList = p3\n",
    "        eps = p2\n",
    "        \n",
    "    LeafRunTimeDP_list = [None]*size\n",
    "    LeafRunTimeDPSort_list = [None]*size\n",
    "    LeafRunTimeDPMerge_list = [None]*size\n",
    "    LeafDPError_list = [None]*size\n",
    "    LeafDPStoreError_list = [None]*size\n",
    "    LeafTTStoreError_list = [None]*size\n",
    "    \n",
    "    SortRootRunTimeDP_list = [None]*size\n",
    "    SortRootRunTimeDPSort_list = [None]*size\n",
    "    SortRootRunTimeDPMerge_list = [None]*size\n",
    "    SortRootDPError_list = [None]*size\n",
    "    SortRootDPStoreError_list = [None]*size\n",
    "    SortRootTTStoreError_list = [None]*size\n",
    "    \n",
    "    SortDRunTimeDP_list = [None]*size\n",
    "    SortDRunTimeDPSort_list = [None]*size\n",
    "    SortDRunTimeDPMerge_list = [None]*size\n",
    "    SortDDPError_list = [None]*size\n",
    "    SortDDPStoreError_list = [None]*size\n",
    "    SortDTTStoreError_list = [None]*size\n",
    "    # create file names\n",
    "    for i in range(size):\n",
    "        T_string = \"T:\"+str(T)\n",
    "        if NorEps == \"eps\":\n",
    "            eps_string = \",eps:\"+str(p3[i])\n",
    "            N_string = \",N:\"+str(N)\n",
    "        else:\n",
    "            eps_string = \",eps:\"+str(eps)\n",
    "            N_string = \",N:\"+str(p3[i])\n",
    "        \n",
    "        fileName = T_string+eps_string+N_string+\".json\"\n",
    "        with open(fileName) as data_file:\n",
    "            data_loaded = json.load(data_file)\n",
    "\n",
    "        \n",
    "        # six metrics\n",
    "            #leaf \n",
    "        LeafRunTimeDPSort_list[i] = sum(data_loaded[\"list_runTimeDPSort_leaf\"])\n",
    "        LeafDPError_list[i] = sum(data_loaded[\"list_metricDPError_leaf\"])\n",
    "        LeafDPStoreError_list[i] = sum(data_loaded[\"list_metricDPStoreError_leaf\"])\n",
    "        LeafTTStoreError_list[i] = sum(data_loaded[\"list_metricTTStoreError_leaf\"])\n",
    "            #tree_sortRoot\n",
    "        SortRootRunTimeDPSort_list[i] = sum(data_loaded[\"list_runTimeDPSort_treeA\"])\n",
    "        SortRootDPError_list[i] = sum(data_loaded[\"list_metricDPError_treeA\"])\n",
    "        SortRootDPStoreError_list[i] = sum(data_loaded[\"list_metricDPStoreError_treeA\"])\n",
    "        SortRootTTStoreError_list[i] = sum(data_loaded[\"list_metricTTStoreError_treeA\"])\n",
    "            #tree_sortD\n",
    "        SortDRunTimeDPSort_list[i] = sum(data_loaded[\"list_runTimeDPSort_treeD\"])\n",
    "        SortDDPError_list[i] = sum(data_loaded[\"list_metricDPError_treeD\"])\n",
    "        SortDDPStoreError_list[i] = sum(data_loaded[\"list_metricDPStoreError_treeD\"])\n",
    "        SortDTTStoreError_list[i] = sum(data_loaded[\"list_metricTTStoreError_treeD\"])\n",
    "      #  print(\"SortRootRunTimeDPSort\", returnedMeanSortRoot[\"metricRunTimeDPSort_mean\"])\n",
    "      #  print(\"SortDRunTimeDPSort_list\", returnedMeanSortD[\"metricRunTimeDPSort_mean\"])\n",
    "      #  print(\"SortRootRunTimeDPSort\", sum(returnedMeanSortRoot[\"metricRunTimeDPSort_mean\"]))\n",
    "      #  print(\"SortDRunTimeDPSort_list\", sum(returnedMeanSortD[\"metricRunTimeDPSort_mean\"]))\n",
    "\n",
    "        \n",
    "    xList = [str(x) for x in p3]\n",
    "    \n",
    "    #sortTime\n",
    "    plotMulti(xList, LeafRunTimeDPSort_list, SortDRunTimeDPSort_list, SortRootRunTimeDPSort_list, \"SortTime--varying \"+NorEps)\n",
    "\n",
    "    # accuracy \n",
    "    plotMulti(xList, LeafDPError_list, SortDDPError_list, SortRootDPError_list, \"DPCountError--varying \"+NorEps)\n",
    "    plotMulti(xList, LeafDPStoreError_list, SortDDPStoreError_list, SortRootDPStoreError_list, \"DPStoreError--varying \"+NorEps)\n",
    "    plotMulti(xList, LeafTTStoreError_list, SortDTTStoreError_list, SortRootTTStoreError_list, \"TTStoreError--varying \"+NorEps)\n"
   ]
  },
  {
   "cell_type": "code",
   "execution_count": 3,
   "metadata": {},
   "outputs": [],
   "source": [
    "#import sys; sys.path.insert(0, '.')  \n",
    "#from plot_functions2 import plotT, plotNorEps"
   ]
  },
  {
   "cell_type": "code",
   "execution_count": 4,
   "metadata": {
    "scrolled": true
   },
   "outputs": [
    {
     "name": "stdout",
     "output_type": "stream",
     "text": [
      "********************************************************************************\n",
      "T: 1000, N: 1000, varying eps in [10, 1]\n"
     ]
    },
    {
     "data": {
      "image/png": "[encoded data removed]",
      "text/plain": [
       "<Figure size 432x288 with 1 Axes>"
      ]
     },
     "metadata": {
      "needs_background": "light"
     },
     "output_type": "display_data"
    },
    {
     "data": {
      "image/png": "[encoded data removed]",
      "text/plain": [
       "<Figure size 432x288 with 1 Axes>"
      ]
     },
     "metadata": {
      "needs_background": "light"
     },
     "output_type": "display_data"
    },
    {
     "data": {
      "image/png": "[encoded data removed]",
      "text/plain": [
       "<Figure size 432x288 with 1 Axes>"
      ]
     },
     "metadata": {
      "needs_background": "light"
     },
     "output_type": "display_data"
    },
    {
     "data": {
      "image/png": "[encoded data removed]",
      "text/plain": [
       "<Figure size 432x288 with 1 Axes>"
      ]
     },
     "metadata": {
      "needs_background": "light"
     },
     "output_type": "display_data"
    },
    {
     "name": "stdout",
     "output_type": "stream",
     "text": [
      "********************************************************************************\n",
      "T: 1000, N: 10000, varying eps in [10, 1]\n"
     ]
    },
    {
     "ename": "FileNotFoundError",
     "evalue": "[Errno 2] No such file or directory: 'T:1000,eps:10,N:10000.json'",
     "output_type": "error",
     "traceback": [
      "\u001b[0;31m---------------------------------------------------------------------------\u001b[0m",
      "\u001b[0;31mFileNotFoundError\u001b[0m                         Traceback (most recent call last)",
      "\u001b[0;32m<ipython-input-4-e08b9a2fb349>\u001b[0m in \u001b[0;36m<module>\u001b[0;34m\u001b[0m\n\u001b[1;32m      8\u001b[0m \u001b[0mprint\u001b[0m\u001b[0;34m(\u001b[0m\u001b[0;34m\"********************************************************************************\"\u001b[0m\u001b[0;34m)\u001b[0m\u001b[0;34m\u001b[0m\u001b[0;34m\u001b[0m\u001b[0m\n\u001b[1;32m      9\u001b[0m \u001b[0mprint\u001b[0m\u001b[0;34m(\u001b[0m\u001b[0;34m\"T: 1000, N: 10000, varying eps in [10, 1]\"\u001b[0m\u001b[0;34m)\u001b[0m\u001b[0;34m\u001b[0m\u001b[0;34m\u001b[0m\u001b[0m\n\u001b[0;32m---> 10\u001b[0;31m \u001b[0mplotNorEps\u001b[0m\u001b[0;34m(\u001b[0m\u001b[0;36m1000\u001b[0m\u001b[0;34m,\u001b[0m \u001b[0;36m10000\u001b[0m\u001b[0;34m,\u001b[0m \u001b[0;34m[\u001b[0m\u001b[0;36m10\u001b[0m\u001b[0;34m]\u001b[0m\u001b[0;34m,\u001b[0m \u001b[0;34m\"eps\"\u001b[0m\u001b[0;34m)\u001b[0m  \u001b[0;31m# T, N, epsList\u001b[0m\u001b[0;34m\u001b[0m\u001b[0;34m\u001b[0m\u001b[0m\n\u001b[0m",
      "\u001b[0;32m<ipython-input-2-c3c14754fce2>\u001b[0m in \u001b[0;36mplotNorEps\u001b[0;34m(p1, p2, p3, NorEps)\u001b[0m\n\u001b[1;32m    189\u001b[0m \u001b[0;34m\u001b[0m\u001b[0m\n\u001b[1;32m    190\u001b[0m         \u001b[0mfileName\u001b[0m \u001b[0;34m=\u001b[0m \u001b[0mT_string\u001b[0m\u001b[0;34m+\u001b[0m\u001b[0meps_string\u001b[0m\u001b[0;34m+\u001b[0m\u001b[0mN_string\u001b[0m\u001b[0;34m+\u001b[0m\u001b[0;34m\".json\"\u001b[0m\u001b[0;34m\u001b[0m\u001b[0;34m\u001b[0m\u001b[0m\n\u001b[0;32m--> 191\u001b[0;31m         \u001b[0;32mwith\u001b[0m \u001b[0mopen\u001b[0m\u001b[0;34m(\u001b[0m\u001b[0mfileName\u001b[0m\u001b[0;34m)\u001b[0m \u001b[0;32mas\u001b[0m \u001b[0mdata_file\u001b[0m\u001b[0;34m:\u001b[0m\u001b[0;34m\u001b[0m\u001b[0;34m\u001b[0m\u001b[0m\n\u001b[0m\u001b[1;32m    192\u001b[0m             \u001b[0mdata_loaded\u001b[0m \u001b[0;34m=\u001b[0m \u001b[0mjson\u001b[0m\u001b[0;34m.\u001b[0m\u001b[0mload\u001b[0m\u001b[0;34m(\u001b[0m\u001b[0mdata_file\u001b[0m\u001b[0;34m)\u001b[0m\u001b[0;34m\u001b[0m\u001b[0;34m\u001b[0m\u001b[0m\n\u001b[1;32m    193\u001b[0m \u001b[0;34m\u001b[0m\u001b[0m\n",
      "\u001b[0;31mFileNotFoundError\u001b[0m: [Errno 2] No such file or directory: 'T:1000,eps:10,N:10000.json'"
     ]
    }
   ],
   "source": [
    "# runtime and accuracy\n",
    "#print(\"********************************************************************************\")\n",
    "#print(\"T: 10, N: 100, varying eps in [10, 1, 0.1]\")\n",
    "#plotNorEps(10, 100, [10, 1, 0.1], \"eps\")  # T, N, epsList\n",
    "print(\"********************************************************************************\")\n",
    "print(\"T: 1000, N: 1000, varying eps in [10, 1]\")\n",
    "plotNorEps(1000, 1000, [10], \"eps\")  # T, N, epsList\n",
    "print(\"********************************************************************************\")\n",
    "print(\"T: 1000, N: 10000, varying eps in [10, 1]\")\n",
    "plotNorEps(1000, 10000, [10], \"eps\")  # T, N, epsList"
   ]
  },
  {
   "cell_type": "code",
   "execution_count": null,
   "metadata": {
    "scrolled": true
   },
   "outputs": [
    {
     "name": "stdout",
     "output_type": "stream",
     "text": [
      "T: 1000, eps: 10, varying N in [1000, 10000]\n"
     ]
    },
    {
     "data": {
      "image/png": "[encoded data removed]",
      "text/plain": [
       "<Figure size 432x288 with 1 Axes>"
      ]
     },
     "metadata": {
      "needs_background": "light"
     },
     "output_type": "display_data"
    },
    {
     "data": {
      "image/png": "[encoded data removed]",
      "text/plain": [
       "<Figure size 432x288 with 1 Axes>"
      ]
     },
     "metadata": {
      "needs_background": "light"
     },
     "output_type": "display_data"
    },
    {
     "data": {
      "image/png": "[encoded data removed]",
      "text/plain": [
       "<Figure size 432x288 with 1 Axes>"
      ]
     },
     "metadata": {
      "needs_background": "light"
     },
     "output_type": "display_data"
    }
   ],
   "source": [
    "#print(\"********************************************************************************\")\n",
    "print(\"T: 1000, eps: 10, varying N in [1000, 10000]\")\n",
    "plotNorEps(1000, 10, [100, 1000], \"N\")  # T, eps, NList\n",
    "print(\"********************************************************************************\")\n",
    "#print(\"T: 1000, eps: 1, varying N in [1000, 10000]\")\n",
    "#plotNorEps(1000, 1, [ 1000, 10000], \"N\")  # T, eps, NList\n",
    "#print(\"********************************************************************************\")\n",
    "#print(\"T: 10, eps: 0.1, varying N in [100, 1000, 10000]\")\n",
    "#plotNorEps(10, 0.1, [100, 1000, 10000], \"N\")  # T, eps, NList\n",
    "\n",
    "\n"
   ]
  },
  {
   "cell_type": "code",
   "execution_count": null,
   "metadata": {
    "scrolled": true
   },
   "outputs": [],
   "source": [
    "#T:10; eps:10, 1, 0.1; N:1000\n",
    "T_list = [1000]\n",
    "eps_list = [10]\n",
    "N_list = [100, 1000]\n",
    "\n",
    "for T in T_list:\n",
    "    for N in N_list:\n",
    "        for eps in eps_list:\n",
    "            print(\"***************************************************************\")\n",
    "            plotT(T, eps, N)"
   ]
  },
  {
   "cell_type": "code",
   "execution_count": null,
   "metadata": {},
   "outputs": [],
   "source": [
    "#T:10; eps:10, 1, 0.1; N:1000\n",
    "T_list = [1000]\n",
    "eps_list = [10]\n",
    "N_list = [100, 1000]\n",
    "\n",
    "for T in T_list:\n",
    "    for N in N_list:\n",
    "        for eps in eps_list:\n",
    "            print(\"***************************************************************\")\n",
    "            plotT(T, eps, N)\n",
    "\n",
    "\n"
   ]
  },
  {
   "cell_type": "code",
   "execution_count": null,
   "metadata": {},
   "outputs": [],
   "source": [
    "sum([0.0, 0.0, 0.0, 0.0, 0.0, 0.0, 0.0, 0.0, 0.0, 0.0, 0.0, 0.0, 0.0, 0.0, 0.0, 0.0, 0.0, 0.0, 0.0, 0.0, 0.0, 0.0, 0.0, 0.0, 0.0, 0.0, 0.0, 0.0, 0.0, 0.0, 0.0, 0.0, 0.0, 0.0, 0.0, 0.0, 1.0, 1.0, 1.0, 1.0, 1.0, 1.0, 1.0, 1.0, 1.0, 1.0, 1.0, 1.0, 1.0, 1.0, 1.0, 1.0, 1.0, 1.0, 1.0, 2.0, 2.0, 2.0, 2.0, 2.0, 2.0, 2.0, 2.0, 2.0, 2.0, 2.0, 2.0, 2.0, 2.0, 2.0, 2.0, 2.0, 2.0, 2.0, 2.0, 2.0, 2.0, 2.0, 2.0, 2.0, 2.0, 2.0, 2.0, 2.0, 2.0, 2.0, 2.0, 2.0, 2.0, 2.0, 2.0, 2.0, 2.0, 2.0, 2.0, 2.0, 2.0, 2.0, 2.0, 3.0, 3.0, 3.0, 3.0, 3.0, 3.0, 3.0, 3.0, 3.0, 3.0, 3.0, 3.0, 3.0, 3.0, 3.0, 3.0, 3.0, 3.0, 3.0, 3.0, 3.0, 3.0, 3.0, 3.0, 3.0, 3.0, 3.0, 3.0, 3.0, 3.0, 3.0, 3.0, 3.0, 3.0, 3.0, 3.0, 3.0, 3.0, 3.0, 3.0, 3.0, 3.0, 3.0, 3.0, 3.0, 3.0, 3.0, 3.0, 3.0, 3.0, 3.0, 3.0, 3.0, 3.0, 3.0, 3.0, 3.0, 3.0, 3.0, 3.0, 3.0, 3.0, 3.0, 3.0, 3.0, 3.0, 3.0, 3.0, 3.0, 3.0, 3.0, 3.0, 3.0, 3.0, 3.0, 3.0, 3.0, 3.0, 3.0, 3.0, 3.0, 3.0, 3.0, 3.0, 3.0, 3.0, 3.0, 3.0, 3.0, 3.0, 3.0, 3.0, 3.0, 3.0, 3.0, 3.0, 3.0, 3.0, 3.0, 3.0, 3.0, 3.0, 3.0, 3.0, 3.0, 3.0, 3.0, 3.0, 3.0, 3.0, 2.0, 3.0, 3.0, 3.0, 3.0, 3.0, 3.0, 3.0, 3.0, 3.0, 3.0, 3.0, 3.0, 3.0, 3.0, 3.0, 3.0, 3.0, 3.0, 3.0, 3.0, 3.0, 3.0, 3.0, 3.0, 2.0, 2.0, 2.0, 2.0, 2.0, 2.0, 2.0, 3.0, 3.0, 3.0, 3.0, 3.0, 3.0, 3.0, 3.0, 3.0, 3.0, 3.0, 3.0, 3.0, 3.0, 3.0, 3.0, 3.0, 3.0, 3.0, 3.0, 4.0, 3.0, 3.0, 3.0, 3.0, 3.0, 3.0, 3.0, 3.0, 3.0, 3.0, 3.0, 3.0, 3.0, 3.0, 3.0, 3.0, 3.0, 3.0, 3.0, 3.0, 3.0, 4.0, 4.0, 4.0, 4.0, 4.0, 4.0, 4.0, 4.0, 4.0, 4.0, 4.0, 4.0, 4.0, 4.0, 4.0, 4.0, 4.0, 4.0, 3.0, 3.0, 3.0, 3.0, 3.0, 3.0, 3.0, 3.0, 3.0, 3.0, 3.0, 3.0, 3.0, 3.0, 3.0, 3.0, 3.0, 3.0, 3.0, 3.0, 3.0, 4.0, 4.0, 4.0, 4.0, 4.0, 4.0, 4.0, 4.0, 4.0, 4.0, 4.0, 4.0, 4.0, 4.0, 4.0, 4.0, 4.0, 4.0, 4.0, 4.0, 4.0, 4.0, 4.0, 4.0, 4.0, 4.0, 4.0, 4.0, 4.0, 4.0, 4.0, 4.0, 4.0, 4.0, 4.0, 4.0, 4.0, 4.0, 4.0, 4.0, 4.0, 4.0, 4.0, 4.0, 4.0, 4.0, 5.0, 5.0, 5.0, 5.0, 5.0, 5.0, 5.0, 5.0, 5.0, 5.0, 5.0, 5.0, 5.0, 5.0, 5.0, 5.0, 5.0, 5.0, 5.0, 5.0, 5.0, 5.0, 5.0, 5.0, 5.0, 5.0, 5.0, 5.0, 5.0, 5.0, 5.0, 5.0, 5.0, 5.0, 5.0, 5.0, 5.0, 5.0, 4.0, 4.0, 4.0, 4.0, 4.0, 4.0, 4.0, 4.0, 4.0, 4.0, 4.0, 4.0, 4.0, 4.0, 4.0, 4.0, 4.0, 4.0, 4.0, 4.0, 4.0, 4.0, 4.0, 4.0, 4.0, 4.0, 4.0, 4.0, 4.0, 4.0, 4.0, 4.0, 4.0, 4.0, 4.0, 4.0, 4.0, 4.0, 4.0, 4.0, 4.0, 4.0, 4.0, 4.0, 4.0, 4.0, 4.0, 4.0, 4.0, 4.0, 4.0, 4.0, 4.0, 4.0, 4.0, 4.0, 4.0, 4.0, 4.0, 4.0, 4.0, 4.0, 4.0, 4.0, 4.0, 4.0, 4.0, 4.0, 4.0, 4.0, 5.0, 5.0, 5.0, 5.0, 5.0, 5.0, 5.0, 5.0, 5.0, 5.0, 5.0, 5.0, 5.0, 5.0, 5.0, 5.0, 5.0, 5.0, 5.0, 5.0, 5.0, 5.0, 5.0, 5.0, 5.0, 5.0, 5.0, 5.0, 5.0, 5.0, 5.0, 5.0, 5.0, 5.0, 5.0, 5.0, 5.0, 5.0, 5.0, 5.0, 5.0, 5.0, 5.0, 5.0, 5.0, 5.0, 5.0, 5.0, 5.0, 5.0, 5.0, 5.0, 5.0, 5.0, 5.0, 5.0, 5.0, 5.0, 6.0, 6.0, 6.0, 6.0, 6.0, 6.0, 6.0, 6.0, 6.0, 6.0, 6.0, 6.0, 6.0, 6.0, 6.0, 6.0, 6.0, 6.0, 6.0, 6.0, 6.0, 6.0, 6.0, 6.0, 6.0, 6.0, 6.0, 6.0, 6.0, 6.0, 6.0, 6.0, 6.0, 6.0, 6.0, 6.0, 6.0, 6.0, 6.0, 6.0, 6.0, 6.0, 6.0, 6.0, 6.0, 6.0, 6.0, 6.0, 6.0, 6.0, 6.0, 6.0, 6.0, 6.0, 6.0, 6.0, 6.0, 6.0, 6.0, 6.0, 6.0, 6.0, 6.0, 6.0, 6.0, 6.0, 6.0, 6.0, 6.0, 5.0, 5.0, 5.0, 5.0, 5.0, 5.0, 5.0, 5.0, 5.0, 5.0, 5.0, 5.0, 5.0, 5.0, 5.0, 5.0, 5.0, 5.0, 5.0, 5.0, 5.0, 5.0, 5.0, 5.0, 5.0, 5.0, 5.0, 5.0, 5.0, 5.0, 5.0, 5.0, 5.0, 5.0, 5.0, 5.0, 5.0, 5.0, 5.0, 5.0, 5.0, 5.0, 5.0, 5.0, 5.0, 5.0, 5.0, 5.0, 5.0, 5.0, 5.0, 5.0, 5.0, 5.0, 5.0, 5.0, 5.0, 5.0, 5.0, 5.0, 5.0, 5.0, 5.0, 5.0, 5.0, 5.0, 5.0, 5.0, 5.0, 5.0, 5.0, 5.0, 5.0, 5.0, 5.0, 5.0, 5.0, 5.0, 5.0, 5.0, 5.0, 5.0, 5.0, 5.0, 5.0, 5.0, 5.0, 5.0, 5.0, 5.0, 5.0, 5.0, 5.0, 5.0, 5.0, 5.0, 5.0, 5.0, 5.0, 5.0, 5.0, 5.0, 5.0, 5.0, 5.0, 5.0, 5.0, 5.0, 5.0, 5.0, 5.0, 5.0, 5.0, 5.0, 5.0, 5.0, 5.0, 5.0, 5.0, 5.0, 5.0, 5.0, 5.0, 5.0, 5.0, 5.0, 5.0, 5.0, 5.0, 5.0, 5.0, 5.0, 5.0, 5.0, 5.0, 5.0, 5.0, 5.0, 5.0, 5.0, 5.0, 5.0, 6.0, 6.0, 6.0, 6.0, 6.0, 6.0, 6.0, 6.0, 6.0, 6.0, 6.0, 6.0, 6.0, 6.0, 6.0, 6.0, 6.0, 6.0, 6.0, 6.0, 6.0, 6.0, 6.0, 6.0, 6.0, 6.0, 6.0, 6.0, 6.0, 6.0, 6.0, 6.0, 6.0, 6.0, 6.0, 6.0, 6.0, 6.0, 6.0, 6.0, 6.0, 6.0, 6.0, 6.0, 6.0, 6.0, 6.0, 6.0, 6.0, 6.0, 6.0, 6.0, 6.0, 6.0, 6.0, 6.0, 6.0, 6.0, 6.0, 6.0, 6.0, 6.0, 6.0, 6.0, 6.0, 6.0, 6.0, 6.0, 7.0, 7.0, 7.0, 7.0, 7.0, 7.0, 7.0, 7.0, 7.0, 7.0, 7.0, 7.0, 7.0, 7.0, 7.0, 7.0, 7.0, 7.0, 7.0, 7.0, 7.0, 7.0, 7.0, 7.0, 7.0, 7.0, 7.0, 7.0, 7.0, 7.0, 7.0, 7.0, 7.0, 7.0, 7.0, 7.0, 7.0, 7.0, 7.0, 7.0, 7.0, 8.0, 7.0, 7.0, 7.0, 7.0, 7.0, 8.0, 8.0, 8.0, 8.0, 8.0, 8.0, 8.0, 8.0, 8.0, 8.0, 8.0, 8.0, 7.0, 7.0, 7.0, 7.0, 7.0, 7.0, 7.0, 8.0, 8.0, 8.0, 8.0, 8.0, 8.0, 8.0, 8.0, 8.0, 8.0, 8.0, 8.0, 8.0, 8.0, 8.0, 8.0, 8.0, 8.0, 8.0, 8.0, 8.0, 8.0, 8.0, 8.0, 8.0, 8.0, 8.0, 8.0, 8.0, 8.0, 8.0, 8.0, 8.0, 8.0, 8.0, 8.0, 8.0, 8.0, 8.0, 8.0, 8.0, 8.0, 8.0, 8.0, 8.0, 8.0, 8.0, 8.0, 8.0, 8.0, 8.0, 8.0, 8.0, 8.0, 8.0, 8.0, 8.0, 8.0, 8.0, 8.0, 8.0, 8.0, 8.0, 8.0, 8.0, 8.0, 8.0, 8.0, 8.0, 8.0, 8.0, 8.0, 8.0, 8.0, 8.0, 8.0, 8.0, 8.0, 8.0, 8.0, 8.0, 8.0, 8.0, 8.0, 8.0, 8.0, 8.0, 8.0, 8.0, 8.0, 8.0, 8.0, 8.0, 8.0, 8.0, 8.0, 8.0, 8.0, 8.0, 8.0, 8.0, 8.0, 8.0, 8.0, 8.0, 8.0, 8.0, 8.0, 8.0, 8.0, 8.0, 8.0, 8.0, 8.0, 8.0, 9.0, 9.0, 9.0, 9.0, 9.0, 9.0])"
   ]
  },
  {
   "cell_type": "code",
   "execution_count": null,
   "metadata": {},
   "outputs": [],
   "source": []
  },
  {
   "cell_type": "code",
   "execution_count": null,
   "metadata": {},
   "outputs": [],
   "source": []
  }
 ],
 "metadata": {
  "kernelspec": {
   "display_name": "Python 3",
   "language": "python",
   "name": "python3"
  },
  "language_info": {
   "codemirror_mode": {
    "name": "ipython",
    "version": 3
   },
   "file_extension": ".py",
   "mimetype": "text/x-python",
   "name": "python",
   "nbconvert_exporter": "python",
   "pygments_lexer": "ipython3",
   "version": "3.8.3"
  }
 },
 "nbformat": 4,
 "nbformat_minor": 4
}
