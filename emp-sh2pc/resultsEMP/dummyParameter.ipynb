{
 "cells": [
  {
   "cell_type": "markdown",
   "metadata": {},
   "source": [
    "Fact 3.7. If Y ∼ Lap(b), then:\n",
    "Pr[|Y | ≥ t · b] = exp(−t).\n",
    "\n",
    "\n",
    "b = (1/eps)\n",
    "\n",
    "$Pr[Y >= a] <= e^{(\\frac{-a^2}{4kb^2})}$"
   ]
  },
  {
   "cell_type": "code",
   "execution_count": 35,
   "metadata": {},
   "outputs": [],
   "source": [
    "import math\n",
    "import matplotlib.pyplot as plt\n",
    "import numpy as np"
   ]
  },
  {
   "cell_type": "code",
   "execution_count": 52,
   "metadata": {},
   "outputs": [
    {
     "name": "stdout",
     "output_type": "stream",
     "text": [
      "0.13082402064781276\n",
      "epsLevel_tree:  0.13082402064781276\n",
      "t·b_tree: 5.298317366548037\n",
      "epsLevel_leaf:  1\n",
      "t·b_leaf:  0.6931471805599453\n",
      "epsLevel_baseline:  0.005\n",
      "t·b_baseline:  138.62943611198907\n"
     ]
    }
   ],
   "source": [
    "p = 0.5\n",
    "updates = 200\n",
    "t = math.log((1/p), math.e)\n",
    "level = math.log(updates, 2)\n",
    "epsAll = 1\n",
    "epsLevel = epsAll/level\n",
    "epsBaseline = (1/updates)\n",
    "print(epsLevel)\n",
    "b_tree = (1/epsLevel)\n",
    "b_leaf = (1/epsAll)\n",
    "b_baseline = (1/epsBaseline)\n",
    "print(\"epsLevel_tree: \", epsLevel )\n",
    "print(\"t·b_tree:\", b_tree * t)    # num of dummy\n",
    "print(\"epsLevel_leaf: \", epsAll) \n",
    "print(\"t·b_leaf: \", b_leaf * t)   # num of dummy\n",
    "print(\"epsLevel_baseline: \", epsBaseline) \n",
    "print(\"t·b_baseline: \", b_baseline * t)   # num of dummy\n"
   ]
  },
  {
   "cell_type": "code",
   "execution_count": 48,
   "metadata": {},
   "outputs": [
    {
     "data": {
      "text/plain": [
       "array([ -0.99986018, -45.96637258, 213.45515057, 260.12084817,\n",
       "       -69.69443878,  66.29236445, -45.39536543,  56.79711175,\n",
       "         0.36317969, -97.44218448])"
      ]
     },
     "execution_count": 48,
     "metadata": {},
     "output_type": "execute_result"
    }
   ],
   "source": [
    "np.random.laplace(0, (200/1), 10)"
   ]
  },
  {
   "cell_type": "code",
   "execution_count": 21,
   "metadata": {},
   "outputs": [
    {
     "name": "stdout",
     "output_type": "stream",
     "text": [
      "989.7703667970513\n",
      "1000\n"
     ]
    },
    {
     "data": {
      "text/plain": [
       "-10.229633202948571"
      ]
     },
     "execution_count": 21,
     "metadata": {},
     "output_type": "execute_result"
    }
   ],
   "source": [
    "x= 1000\n",
    "print(math.log(x,2)* math.log(x, 2)*math.log(x, 2))\n",
    "print(x)\n",
    "((40*math.log(x,2)* math.log(x, 2)*math.log(x, 2))-x*40)/40"
   ]
  },
  {
   "cell_type": "code",
   "execution_count": 13,
   "metadata": {},
   "outputs": [
    {
     "data": {
      "text/plain": [
       "4.0"
      ]
     },
     "execution_count": 13,
     "metadata": {},
     "output_type": "execute_result"
    }
   ],
   "source": [
    "math.log(16,2)"
   ]
  },
  {
   "cell_type": "code",
   "execution_count": null,
   "metadata": {},
   "outputs": [],
   "source": []
  }
 ],
 "metadata": {
  "kernelspec": {
   "display_name": "Python 3",
   "language": "python",
   "name": "python3"
  },
  "language_info": {
   "codemirror_mode": {
    "name": "ipython",
    "version": 3
   },
   "file_extension": ".py",
   "mimetype": "text/x-python",
   "name": "python",
   "nbconvert_exporter": "python",
   "pygments_lexer": "ipython3",
   "version": "3.8.3"
  }
 },
 "nbformat": 4,
 "nbformat_minor": 4
}
