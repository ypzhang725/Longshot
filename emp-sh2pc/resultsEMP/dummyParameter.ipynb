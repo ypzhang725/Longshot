{
 "cells": [
  {
   "cell_type": "markdown",
   "metadata": {},
   "source": [
    "Fact 3.7. If Y ∼ Lap(b), then:\n",
    "Pr[|Y | ≥ t · b] = exp(−t).\n",
    "\n",
    "\n",
    "b = (1/eps)\n",
    "\n",
    "$Pr[Y >= a] <= e^{(\\frac{-a^2}{4kb^2})}$"
   ]
  },
  {
   "cell_type": "code",
   "execution_count": 35,
   "metadata": {},
   "outputs": [],
   "source": [
    "import math\n",
    "import matplotlib.pyplot as plt\n",
    "import numpy as np"
   ]
  },
  {
   "cell_type": "code",
   "execution_count": 47,
   "metadata": {},
   "outputs": [
    {
     "name": "stdout",
     "output_type": "stream",
     "text": [
      "0.10034333188799373\n",
      "epsLevel_tree:  0.10034333188799373\n",
      "t·b_tree: 91.78826533542902\n",
      "epsLevel_leaf:  1\n",
      "t·b_leaf:  9.210340371976184\n"
     ]
    }
   ],
   "source": [
    "p = 0.0001\n",
    "updates = 1000\n",
    "t = math.log((1/p), math.e)\n",
    "level = math.log(updates, 2)\n",
    "epsAll = 1\n",
    "epsLevel = epsAll/level\n",
    "print(epsLevel)\n",
    "b_tree = (1/epsLevel)\n",
    "b_leaf = (1/epsAll)\n",
    "print(\"epsLevel_tree: \", epsLevel )\n",
    "print(\"t·b_tree:\", b_tree * t)    # num of dummy\n",
    "print(\"epsLevel_leaf: \", epsAll) \n",
    "print(\"t·b_leaf: \", b_leaf * t)   # num of dummy"
   ]
  },
  {
   "cell_type": "code",
   "execution_count": 43,
   "metadata": {},
   "outputs": [
    {
     "data": {
      "text/plain": [
       "array([ 24.25726607,   8.53152743,  -8.80504433, -18.45167743,\n",
       "        -3.69106102,  20.57904781,   1.92258415,  19.9291782 ,\n",
       "        40.16011245,   4.33824749])"
      ]
     },
     "execution_count": 43,
     "metadata": {},
     "output_type": "execute_result"
    }
   ],
   "source": [
    "np.random.laplace(0, (1/0.1), 10)"
   ]
  },
  {
   "cell_type": "code",
   "execution_count": 21,
   "metadata": {},
   "outputs": [
    {
     "name": "stdout",
     "output_type": "stream",
     "text": [
      "989.7703667970513\n",
      "1000\n"
     ]
    },
    {
     "data": {
      "text/plain": [
       "-10.229633202948571"
      ]
     },
     "execution_count": 21,
     "metadata": {},
     "output_type": "execute_result"
    }
   ],
   "source": [
    "x= 1000\n",
    "print(math.log(x,2)* math.log(x, 2)*math.log(x, 2))\n",
    "print(x)\n",
    "((40*math.log(x,2)* math.log(x, 2)*math.log(x, 2))-x*40)/40"
   ]
  },
  {
   "cell_type": "code",
   "execution_count": 13,
   "metadata": {},
   "outputs": [
    {
     "data": {
      "text/plain": [
       "4.0"
      ]
     },
     "execution_count": 13,
     "metadata": {},
     "output_type": "execute_result"
    }
   ],
   "source": [
    "math.log(16,2)"
   ]
  },
  {
   "cell_type": "code",
   "execution_count": null,
   "metadata": {},
   "outputs": [],
   "source": []
  }
 ],
 "metadata": {
  "kernelspec": {
   "display_name": "Python 3",
   "language": "python",
   "name": "python3"
  },
  "language_info": {
   "codemirror_mode": {
    "name": "ipython",
    "version": 3
   },
   "file_extension": ".py",
   "mimetype": "text/x-python",
   "name": "python",
   "nbconvert_exporter": "python",
   "pygments_lexer": "ipython3",
   "version": "3.8.3"
  }
 },
 "nbformat": 4,
 "nbformat_minor": 4
}
