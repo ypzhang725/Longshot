{
 "cells": [
  {
   "cell_type": "markdown",
   "metadata": {},
   "source": [
    "Fact 3.7. If Y ∼ Lap(b), then:\n",
    "Pr[|Y | ≥ t · b] = exp(−t).\n",
    "\n",
    "\n",
    "b = (1/eps)\n",
    "\n",
    "$Pr[Y >= a] <= e^{(\\frac{-a^2}{4kb^2})}$"
   ]
  },
  {
   "cell_type": "code",
   "execution_count": 1,
   "metadata": {},
   "outputs": [],
   "source": [
    "import math\n",
    "import matplotlib.pyplot as plt\n",
    "import numpy as np"
   ]
  },
  {
   "cell_type": "code",
   "execution_count": 5,
   "metadata": {},
   "outputs": [
    {
     "name": "stdout",
     "output_type": "stream",
     "text": [
      "epsLevel_tree:  0.10034333188799373\n",
      "t·b_tree: 68.84119900157175\n",
      "epsLevel_leaf:  1\n",
      "t·b_leaf:  6.907755278982137\n"
     ]
    }
   ],
   "source": [
    "p = 0.001\n",
    "updates = 1000\n",
    "t = math.log((1/p), math.e)\n",
    "level = math.log(updates, 2)\n",
    "epsAll = 1\n",
    "epsLevel = epsAll/level\n",
    "b_tree = (1/epsLevel)\n",
    "b_leaf = (1/epsAll)\n",
    "print(\"epsLevel_tree: \", epsLevel )\n",
    "print(\"t·b_tree:\", b_tree * t)    # num of dummy\n",
    "print(\"epsLevel_leaf: \", epsAll) \n",
    "print(\"t·b_leaf: \", b_leaf * t)   # num of dummy"
   ]
  },
  {
   "cell_type": "code",
   "execution_count": 21,
   "metadata": {},
   "outputs": [
    {
     "data": {
      "text/plain": [
       "array([0.63633437])"
      ]
     },
     "execution_count": 21,
     "metadata": {},
     "output_type": "execute_result"
    }
   ],
   "source": [
    "np.random.laplace(0, (1/epsAll), 1)"
   ]
  },
  {
   "cell_type": "code",
   "execution_count": null,
   "metadata": {},
   "outputs": [],
   "source": []
  },
  {
   "cell_type": "code",
   "execution_count": null,
   "metadata": {},
   "outputs": [],
   "source": []
  }
 ],
 "metadata": {
  "kernelspec": {
   "display_name": "Python 3",
   "language": "python",
   "name": "python3"
  },
  "language_info": {
   "codemirror_mode": {
    "name": "ipython",
    "version": 3
   },
   "file_extension": ".py",
   "mimetype": "text/x-python",
   "name": "python",
   "nbconvert_exporter": "python",
   "pygments_lexer": "ipython3",
   "version": "3.8.3"
  }
 },
 "nbformat": 4,
 "nbformat_minor": 4
}
